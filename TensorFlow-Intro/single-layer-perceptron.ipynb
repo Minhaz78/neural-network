{
  "nbformat": 4,
  "nbformat_minor": 0,
  "metadata": {
    "colab": {
      "name": "lab-3.ipynb",
      "provenance": [],
      "collapsed_sections": []
    },
    "kernelspec": {
      "name": "python3",
      "display_name": "Python 3"
    },
    "language_info": {
      "name": "python"
    },
    "accelerator": "GPU"
  },
  "cells": [
    {
      "cell_type": "code",
      "metadata": {
        "id": "wkz4cMW2iDTy"
      },
      "source": [
        "# !nvidia-smi"
      ],
      "execution_count": null,
      "outputs": []
    },
    {
      "cell_type": "code",
      "metadata": {
        "id": "qplRqP4bM2cU"
      },
      "source": [
        "import tensorflow as tf\n",
        "import numpy as np\n",
        "from tensorflow import keras"
      ],
      "execution_count": null,
      "outputs": []
    },
    {
      "cell_type": "code",
      "metadata": {
        "id": "x2lhhQy_QJoc"
      },
      "source": [
        "# 1 Layer [Desnse - Fully Conneted], and that layer has 1 neuron (units)\n",
        "# input shape to its just 1 value (1 dimensional input -1 row vector)\n",
        "\n",
        "model = keras.Sequential()\n",
        "\n",
        "model.add(keras.layers.Dense(units=1, use_bias=True, input_shape=[1], name='output_layer'))\n",
        "# model.add(keras.layers.Dense(units=1, use_bias=False, activation='relu', input_shape=[1], name='output_layer'))\n",
        "\n",
        "print(model.summary())"
      ],
      "execution_count": null,
      "outputs": []
    },
    {
      "cell_type": "code",
      "metadata": {
        "id": "j3zEjY8wZgQ7"
      },
      "source": [
        "# Stocastic Gradient Descent = sgd\n",
        "# model.compile(optimizer='RMSprop', loss='mean_absolute_error', metrics=['accuracy'])\n",
        "# model.compile(optimizer='Adam', loss='mean_absolute_error', metrics=['accuracy'])\n",
        "model.compile(optimizer='SGD', loss='mean_absolute_error', metrics=['mean_absolute_percentage_error'])"
      ],
      "execution_count": null,
      "outputs": []
    },
    {
      "cell_type": "code",
      "metadata": {
        "id": "TbPbNw_5dUcX"
      },
      "source": [
        "# Training Dataset X's = Input/Example ; y's = Actual /Gold Label\n",
        "Xs = np.array([-1.0, 0.0, 1.0, 2.0, 3.0, 4.0])\n",
        "Ys = np.array([-3.0, -1.0, 1.0, 3.0, 5.0, 7.0])"
      ],
      "execution_count": null,
      "outputs": []
    },
    {
      "cell_type": "code",
      "metadata": {
        "colab": {
          "base_uri": "https://localhost:8080/"
        },
        "id": "nq7O3pSbeAui",
        "outputId": "3773c0f5-e90d-4359-8f4a-359903547cb8"
      },
      "source": [
        "# Training NN\n",
        "model.fit(Xs, Ys, epochs=1000, verbose=0)\n",
        "# model.fit(Xs, Ys, epochs=1000)"
      ],
      "execution_count": null,
      "outputs": [
        {
          "output_type": "execute_result",
          "data": {
            "text/plain": [
              "<keras.callbacks.History at 0x7f00c282b890>"
            ]
          },
          "metadata": {},
          "execution_count": 160
        }
      ]
    },
    {
      "cell_type": "code",
      "metadata": {
        "colab": {
          "base_uri": "https://localhost:8080/"
        },
        "id": "iBE6khLAecgb",
        "outputId": "e003176f-7f34-4bbe-8a0a-b306def689be"
      },
      "source": [
        "# checking Outputs for Training set(after Training)\n",
        "print('Actual Output:',Ys)\n",
        "print(model.predict(Xs))"
      ],
      "execution_count": null,
      "outputs": [
        {
          "output_type": "stream",
          "name": "stdout",
          "text": [
            "Actual Output: [-3. -1.  1.  3.  5.  7.]\n",
            "[[-3.0049582]\n",
            " [-0.9934354]\n",
            " [ 1.0180874]\n",
            " [ 3.0296102]\n",
            " [ 5.041133 ]\n",
            " [ 7.0526557]]\n"
          ]
        }
      ]
    },
    {
      "cell_type": "code",
      "metadata": {
        "colab": {
          "base_uri": "https://localhost:8080/"
        },
        "id": "n1R8UQqFg31u",
        "outputId": "9c0d8608-d770-4cc9-f0a5-e010e1aa2836"
      },
      "source": [
        "print(model.predict([10.0]))\n"
      ],
      "execution_count": null,
      "outputs": [
        {
          "output_type": "stream",
          "name": "stdout",
          "text": [
            "[[19.121792]]\n"
          ]
        }
      ]
    }
  ]
}