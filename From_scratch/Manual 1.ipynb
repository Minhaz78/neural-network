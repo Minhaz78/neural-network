{
  "nbformat": 4,
  "nbformat_minor": 2,
  "metadata": {
    "colab": {
      "name": "Lab-2.ipynb",
      "provenance": [],
      "collapsed_sections": []
    },
    "kernelspec": {
      "name": "python3",
      "display_name": "Python 3"
    },
    "language_info": {
      "name": "python"
    }
  },
  "cells": [
    {
      "cell_type": "code",
      "execution_count": 7,
      "source": [
        "import numpy as np"
      ],
<<<<<<< HEAD
      "execution_count": 43,
      "outputs": []
=======
      "outputs": [],
      "metadata": {
        "id": "TtGmrmUKDUHB"
      }
>>>>>>> 179b38dc0c0718f58ce71bdac6acbff257eaa351
    },
    {
      "cell_type": "code",
      "execution_count": 8,
      "source": [
        "def sigmoid(z, derive=False):\r\n",
        "    if derive:\r\n",
        "        return z*(1-z)\r\n",
        "    return 1/(1+np.exp(-z))"
      ],
<<<<<<< HEAD
      "execution_count": 44,
      "outputs": []
=======
      "outputs": [],
      "metadata": {
        "id": "SwdIkzaPKgMJ"
      }
>>>>>>> 179b38dc0c0718f58ce71bdac6acbff257eaa351
    },
    {
      "cell_type": "code",
      "execution_count": null,
      "source": [
        "# Trainign Set\r\n",
        "x = np.array([[1, 0, 0, 0],\r\n",
        "              [1, 0, 0, 1],\r\n",
        "              [1, 0, 1, 0],\r\n",
        "              [1, 1, 0, 1],\r\n",
        "              [1, 1, 0, 0],\r\n",
        "              [1, 1, 1, 1]])\r\n",
        "\r\n",
        "# Actual/GOld Label\r\n",
        "y = np.array([\r\n",
        "                [0],\r\n",
        "                [0],\r\n",
        "                [0],\r\n",
        "                [0],\r\n",
        "                [0],\r\n",
        "                [1]])\r\n",
        "\r\n",
        "# initialization weight\r\n",
        "# w = np.random.random((3,1))\r\n",
        "w = np.random.random((4,1))\r\n",
        "\r\n",
        "# Bias interation\r\n",
        "bias = np.random.rand()\r\n",
        "flag = True"
      ],
      "outputs": [],
      "metadata": {
        "id": "tijYxuM6EuAB"
      }
    },
    {
      "cell_type": "code",
      "execution_count": 10,
      "source": [
<<<<<<< HEAD
        "# Trainign the ANN perception... setting No. of iteration(epoch)\n",
        "for i in range(10000):\n",
        "    ## Forward propagation\n",
        "    z = np.dot(x,w) + bias\n",
        "    y_hat = sigmoid(z)\n",
        "    # print(y_hat)\n",
        "\n",
        "    # simole cost calc\n",
        "    cost = y - y_hat\n",
        "     \n",
        "    ## Backward propagation\n",
        "    dy_hat = sigmoid(y_hat, derive=True)\n",
        "    del_w = cost * dy_hat\n",
        "    # print(del_w)\n",
        "    # weight update\n",
        "    w += np.dot(x.T, del_w)\n",
        "    # print(del_w[0])\n",
        "    for j in del_w:\n",
        "        bias += j\n",
        "    # print(bias)"
      ],
      "execution_count": 46,
      "outputs": []
=======
        "# Trainign the ANN perception... setting No. of iteration(epoch)\r\n",
        "for i in range(10000):\r\n",
        "    ## Forward propagation\r\n",
        "    z = np.dot(x,w) + bias\r\n",
        "    y_hat = sigmoid(z)\r\n",
        "\r\n",
        "    # simole cost calc\r\n",
        "    cost = y - y_hat\r\n",
        "     \r\n",
        "    ## Backward propagation\r\n",
        "    dy_hat = sigmoid(y_hat, derive=True)\r\n",
        "    del_w = cost * dy_hat\r\n",
        "\r\n",
        "    # weight update\r\n",
        "    w += np.dot(x.T, del_w)\r\n",
        "    if flag:\r\n",
        "        bias += del_w[0]\r\n",
        "    else:\r\n",
        "        bias -= del_w[0]\r\n",
        "    flag ^= True"
      ],
      "outputs": [],
      "metadata": {
        "id": "kVPdY_8BIcSI"
      }
>>>>>>> 179b38dc0c0718f58ce71bdac6acbff257eaa351
    },
    {
      "cell_type": "code",
      "execution_count": null,
      "source": [
        "print(\"Output after Training. . .\")\r\n",
        "print(y_hat)\r\n",
        "print(\"\\n Weigts are. . .\")\r\n",
        "print(w)"
      ],
      "outputs": [],
      "metadata": {
        "id": "9nyJFLLrOhjL"
      }
    },
    {
      "cell_type": "code",
<<<<<<< HEAD
      "metadata": {
        "id": "9SuU2lX2P5Ox"
      },
=======
      "execution_count": 12,
>>>>>>> 179b38dc0c0718f58ce71bdac6acbff257eaa351
      "source": [
        "# test set\r\n",
        "t = np.array([[1, 0, 1, 1],[1, 1, 1, 0]])\r\n",
        "\r\n",
        "# final prediction\r\n",
        "y_hat = sigmoid(np.dot(t,w))\r\n",
        "print(\"test prediction\")\r\n",
        "print(y_hat)"
      ],
<<<<<<< HEAD
      "execution_count": null,
      "outputs": []
=======
      "outputs": [
        {
          "output_type": "stream",
          "name": "stdout",
          "text": [
            "test prediction\n",
            "[[0.39759733]\n",
            " [0.40051788]]\n"
          ]
        }
      ],
      "metadata": {
        "colab": {
          "base_uri": "https://localhost:8080/"
        },
        "id": "9SuU2lX2P5Ox",
        "outputId": "9537c813-7b1c-42a1-ef2a-e4a91e1231dd"
      }
>>>>>>> 179b38dc0c0718f58ce71bdac6acbff257eaa351
    }
  ]
}