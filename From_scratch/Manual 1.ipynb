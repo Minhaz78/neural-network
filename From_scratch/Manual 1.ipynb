{
  "nbformat": 4,
  "nbformat_minor": 0,
  "metadata": {
    "colab": {
      "name": "Lab-2.ipynb",
      "provenance": [],
      "collapsed_sections": []
    },
    "kernelspec": {
      "name": "python3",
      "display_name": "Python 3"
    },
    "language_info": {
      "name": "python"
    }
  },
  "cells": [
    {
      "cell_type": "code",
      "metadata": {
        "id": "TtGmrmUKDUHB"
      },
      "source": [
        "import numpy as np"
      ],
      "execution_count": 7,
      "outputs": []
    },
    {
      "cell_type": "code",
      "metadata": {
        "id": "SwdIkzaPKgMJ"
      },
      "source": [
        "def sigmoid(z, derive=False):\n",
        "    if derive:\n",
        "        return z*(1-z)\n",
        "    return 1/(1+np.exp(-z))"
      ],
      "execution_count": 8,
      "outputs": []
    },
    {
      "cell_type": "code",
      "metadata": {
        "id": "tijYxuM6EuAB"
      },
      "source": [
        "# Trainign Set\n",
        "x = np.array([[1, 0, 0, 0],\n",
        "              [1, 0, 0, 1],\n",
        "              [1, 0, 1, 0],\n",
        "              [1, 1, 0, 1],\n",
        "              [1, 1, 0, 0],\n",
        "              [1, 1, 1, 1]])\n",
        "# print(x)\n",
        "\n",
        "# Actual/GOld Label\n",
        "y = np.array([\n",
        "                [0],\n",
        "                [0],\n",
        "                [0],\n",
        "                [0],\n",
        "                [0],\n",
        "                [1]])\n",
        "\n",
        "# init weight\n",
        "# w = np.random.random((3,1))\n",
        "w = np.random.random((4,1))\n",
        "# print(w)\n",
        "\n",
        "# Bias interation\n",
        "bias = np.random.rand()\n",
        "print(bias)\n",
        "flag = True"
      ],
      "execution_count": null,
      "outputs": []
    },
    {
      "cell_type": "code",
      "metadata": {
        "id": "kVPdY_8BIcSI"
      },
      "source": [
        "# Trainign the ANN perception... setting No. of iteration(epoch)\n",
        "for i in range(10000):\n",
        "    ## Forward propagation\n",
        "    z = np.dot(x,w) + bias\n",
        "    y_hat = sigmoid(z)\n",
        "    # print(y_hat)\n",
        "\n",
        "    # simole cost calc\n",
        "    cost = y - y_hat\n",
        "     \n",
        "    ## Backward propagation\n",
        "    dy_hat = sigmoid(y_hat, derive=True)\n",
        "    del_w = cost * dy_hat\n",
        "    # print(del_w)\n",
        "    # weight update\n",
        "    w += np.dot(x.T, del_w)\n",
        "    # print(del_w[0])\n",
        "    if flag:\n",
        "        bias += del_w[0]\n",
        "    else:\n",
        "        bias -= del_w[0]\n",
        "    flag ^= True\n",
        "    # print(bias)"
      ],
      "execution_count": 10,
      "outputs": []
    },
    {
      "cell_type": "code",
      "metadata": {
        "id": "9nyJFLLrOhjL"
      },
      "source": [
        "print(\"Output after Training. . .\")\n",
        "print(y_hat)\n",
        "print(\"\\n Weigts are. . .\")\n",
        "print(w)"
      ],
      "execution_count": null,
      "outputs": []
    },
    {
      "cell_type": "code",
      "metadata": {
        "colab": {
          "base_uri": "https://localhost:8080/"
        },
        "id": "9SuU2lX2P5Ox",
        "outputId": "9537c813-7b1c-42a1-ef2a-e4a91e1231dd"
      },
      "source": [
        "# test set\n",
        "t = np.array([[1, 0, 1, 1],[1, 1, 1, 0]])\n",
        "\n",
        "# final prediction\n",
        "y_hat = sigmoid(np.dot(t,w))\n",
        "print(\"test prediction\")\n",
        "print(y_hat)"
      ],
      "execution_count": 12,
      "outputs": [
        {
          "output_type": "stream",
          "name": "stdout",
          "text": [
            "test prediction\n",
            "[[0.39759733]\n",
            " [0.40051788]]\n"
          ]
        }
      ]
    }
  ]
}