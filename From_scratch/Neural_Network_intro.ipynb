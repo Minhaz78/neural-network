{
  "nbformat": 4,
  "nbformat_minor": 0,
  "metadata": {
    "colab": {
      "name": "Neural_Network_intro.ipynb",
      "provenance": [],
      "collapsed_sections": []
    },
    "kernelspec": {
      "name": "python3",
      "display_name": "Python 3"
    },
    "language_info": {
      "name": "python"
    }
  },
  "cells": [
    {
      "cell_type": "code",
      "metadata": {
        "colab": {
          "base_uri": "https://localhost:8080/"
        },
        "id": "tBjfCVQoF6VT",
        "outputId": "bcd1d90d-2de2-402d-d962-ea6fba2bbd75"
      },
      "source": [
        "import numpy as np\n",
        "\n",
        "input_features = np.array([[0,0],[0,1],[1,0],[1,1]])\n",
        "print(input_features)\n",
        "# input_features"
      ],
      "execution_count": 5,
      "outputs": [
        {
          "output_type": "stream",
          "name": "stdout",
          "text": [
            "[[0 0]\n",
            " [0 1]\n",
            " [1 0]\n",
            " [1 1]]\n"
          ]
        }
      ]
    },
    {
      "cell_type": "code",
      "metadata": {
        "colab": {
          "base_uri": "https://localhost:8080/"
        },
        "id": "ZqbPLvbeHjTK",
        "outputId": "5d5f584f-5aaf-4cc9-d33b-9eae053e7db0"
      },
      "source": [
        "target_output = np.array([[0,1,1,1]])\n",
        "target_output = target_output.reshape(4,1)\n",
        "print(target_output)"
      ],
      "execution_count": 9,
      "outputs": [
        {
          "output_type": "stream",
          "name": "stdout",
          "text": [
            "[[0]\n",
            " [1]\n",
            " [1]\n",
            " [1]]\n"
          ]
        }
      ]
    },
    {
      "cell_type": "code",
      "metadata": {
        "id": "a02zG7JiLDsz"
      },
      "source": [
        ""
      ],
      "execution_count": null,
      "outputs": []
    }
  ]
}