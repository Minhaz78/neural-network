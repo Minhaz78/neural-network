{
  "nbformat": 4,
  "nbformat_minor": 0,
  "metadata": {
    "colab": {
      "name": "NN_Lab-4_Spring-2020.ipynb",
      "provenance": []
    },
    "kernelspec": {
      "name": "python3",
      "display_name": "Python 3"
    },
    "language_info": {
      "name": "python"
    }
  },
  "cells": [
    {
      "cell_type": "code",
      "metadata": {
        "id": "kt8_SxJDEROo"
      },
      "source": [
        "import numpy as np"
      ],
      "execution_count": null,
      "outputs": []
    },
    {
      "cell_type": "code",
      "metadata": {
        "id": "JatwTBNEKa1Z"
      },
      "source": [
        "def sigmoid(z, derive=False):\n",
        "  if derive == True:\n",
        "    return z*(1-z)\n",
        "    \n",
        "  # sigmoid rule\n",
        "  return 1/(1+np.exp(-z))"
      ],
      "execution_count": null,
      "outputs": []
    },
    {
      "cell_type": "code",
      "metadata": {
        "id": "y4sh4vz7EovG"
      },
      "source": [
        "# Training Set\n",
        "X = np.array( [[1, 0, 0, 0],\n",
        "               [1, 0, 0, 1],\n",
        "               [1, 0, 1, 0],\n",
        "               [1, 1, 0, 1],\n",
        "               [1, 1, 0, 0],\n",
        "               [1, 1, 1, 1]] )\n",
        "\n",
        "# Gold/Actual Label or Output\n",
        "y = np.array([[0],\n",
        "              [0],\n",
        "              [0],\n",
        "              [0],\n",
        "              [0],\n",
        "              [1]])\n",
        "\n",
        "# Initialize the wights - randomly or with zeroes\n",
        "# w = np.random.random((4, 1))\n",
        "w = np.zeros((4, 1))\n",
        "w"
      ],
      "execution_count": null,
      "outputs": []
    },
    {
      "cell_type": "code",
      "metadata": {
        "id": "NlXrI8nMIQZP"
      },
      "source": [
        "# Training the ANN (perceptron)... Setting No. of Iteration (epochs)\n",
        "for iter in range(1000):\n",
        "  # Forward Propagation: to Predict output (y_hat)\n",
        "  z = np.dot(X, w)\n",
        "  y_hat = sigmoid(z)\n",
        "  # print(y_hat)\n",
        "\n",
        "  # simple 'cost' calculation\n",
        "  # cost = pow((y - y_hat), 2) * 0.5    # M.S.E = Mean Squared Error\n",
        "  # cost = abs(y - y_hat) * 0.5\n",
        "  cost = y - y_hat\n",
        "\n",
        "  # Back-propagtion (future studies)\n",
        "  dy_hat = sigmoid(y_hat, derive=True)\n",
        "  delta_w = cost * dy_hat\n",
        "\n",
        "  # update weights\n",
        "  w += np.dot(X.T, delta_w)"
      ],
      "execution_count": null,
      "outputs": []
    },
    {
      "cell_type": "code",
      "metadata": {
        "id": "NdQlAZHLOY94"
      },
      "source": [
        "print(\"\\n Output after Training ...\")\n",
        "print(y_hat)\n",
        "\n",
        "print(\"\\n Weights:\")\n",
        "print(w)"
      ],
      "execution_count": null,
      "outputs": []
    },
    {
      "cell_type": "code",
      "metadata": {
        "colab": {
          "base_uri": "https://localhost:8080/"
        },
        "id": "bO8nZja-P1xt",
        "outputId": "90f93c85-7d64-4d22-fff5-33f611986041"
      },
      "source": [
        "# Test Set\n",
        "T = np.array([[1, 0, 1, 1],\n",
        "              [1, 1, 1, 0]])\n",
        "\n",
        "# Final Predictions on the Test Set\n",
        "y_hat = sigmoid(np.dot(T, w))\n",
        "\n",
        "print(\"\\nTest Predictions...\")\n",
        "print(y_hat)"
      ],
      "execution_count": null,
      "outputs": [
        {
          "output_type": "stream",
          "name": "stdout",
          "text": [
            "\n",
            "Test Predictions...\n",
            "[[0.47225575]\n",
            " [0.47225575]]\n"
          ]
        }
      ]
    }
  ]
}